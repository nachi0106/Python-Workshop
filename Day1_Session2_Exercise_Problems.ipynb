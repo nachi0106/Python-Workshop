{
  "nbformat": 4,
  "nbformat_minor": 0,
  "metadata": {
    "colab": {
      "name": "Untitled3.ipynb",
      "provenance": [],
      "authorship_tag": "ABX9TyOmnY86Zep7AYVdeBsSdnbk",
      "include_colab_link": true
    },
    "kernelspec": {
      "name": "python3",
      "display_name": "Python 3"
    }
  },
  "cells": [
    {
      "cell_type": "markdown",
      "metadata": {
        "id": "view-in-github",
        "colab_type": "text"
      },
      "source": [
        "<a href=\"https://colab.research.google.com/github/nachi0106/Python-Workshop/blob/master/Day1_Session2_Exercise_Problems.ipynb\" target=\"_parent\"><img src=\"https://colab.research.google.com/assets/colab-badge.svg\" alt=\"Open In Colab\"/></a>"
      ]
    },
    {
      "cell_type": "markdown",
      "metadata": {
        "id": "jXq765F-E3nk",
        "colab_type": "text"
      },
      "source": [
        "#Pandas  and Numpy Exercise 20 Questions "
      ]
    },
    {
      "cell_type": "markdown",
      "metadata": {
        "id": "coDajM2UE8Ox",
        "colab_type": "text"
      },
      "source": [
        "#Write a Pandas program to create and display a one-dimensional array using series  containing  even numbers upto 10000"
      ]
    },
    {
      "cell_type": "code",
      "metadata": {
        "id": "g-ynINlAFVva",
        "colab_type": "code",
        "colab": {
          "base_uri": "https://localhost:8080/",
          "height": 221
        },
        "outputId": "8a4e4f8c-f427-4c1d-c76a-04d9166fcd7f"
      },
      "source": [
        "import pandas as pd\n",
        "l=([i for i in range(0,10000) if i%2==0])\n",
        "ds = pd.Series(l) \n",
        "print(ds)"
      ],
      "execution_count": null,
      "outputs": [
        {
          "output_type": "stream",
          "text": [
            "0          0\n",
            "1          2\n",
            "2          4\n",
            "3          6\n",
            "4          8\n",
            "        ... \n",
            "4995    9990\n",
            "4996    9992\n",
            "4997    9994\n",
            "4998    9996\n",
            "4999    9998\n",
            "Length: 5000, dtype: int64\n"
          ],
          "name": "stdout"
        }
      ]
    },
    {
      "cell_type": "markdown",
      "metadata": {
        "id": "VeUXKm_UHwCz",
        "colab_type": "text"
      },
      "source": [
        "#Write a Pandas program to convert a Panda module Series of the numbers which are between 1000 and 2000 (both inclusive) and divisable by 5 to Python list and  after convertion print its type "
      ]
    },
    {
      "cell_type": "code",
      "metadata": {
        "id": "k1AVNK5sH2Pn",
        "colab_type": "code",
        "colab": {
          "base_uri": "https://localhost:8080/",
          "height": 221
        },
        "outputId": "83c16ca1-7b39-4bd0-b1e5-5c406e39ff0b"
      },
      "source": [
        "import pandas as pd\n",
        "l=([i for i in range(1000,20000) if i%5==0])\n",
        "ds = pd.Series(l) \n",
        "print(ds)"
      ],
      "execution_count": null,
      "outputs": [
        {
          "output_type": "stream",
          "text": [
            "0        1000\n",
            "1        1005\n",
            "2        1010\n",
            "3        1015\n",
            "4        1020\n",
            "        ...  \n",
            "3795    19975\n",
            "3796    19980\n",
            "3797    19985\n",
            "3798    19990\n",
            "3799    19995\n",
            "Length: 3800, dtype: int64\n"
          ],
          "name": "stdout"
        }
      ]
    },
    {
      "cell_type": "markdown",
      "metadata": {
        "id": "DhmpL87tLHBx",
        "colab_type": "text"
      },
      "source": [
        "#Write a Pandas program to add, subtract, multiple and divide two Pandas Series and print their results using the Sample Series: [2, 4, 6, 8, ...100], [1, 3, 5, 7, 9...99]"
      ]
    },
    {
      "cell_type": "code",
      "metadata": {
        "id": "E-1a_PYULNYq",
        "colab_type": "code",
        "colab": {
          "base_uri": "https://localhost:8080/",
          "height": 1000
        },
        "outputId": "99acd10f-dc75-4270-da6b-2f0d8a103c86"
      },
      "source": [
        "import pandas as pd\n",
        "l1=([i for i in range(0,101) if i%2==0])\n",
        "ds1 = pd.Series(l1)\n",
        "l2=([i for i in range(0,100) if i%2!=0])\n",
        "ds2 = pd.Series(l2)\n",
        "ds = ds1 + ds2\n",
        "print(\"Add two Series:\")\n",
        "print(ds)\n",
        "print(\"Subtract two Series:\")\n",
        "ds = ds1 - ds2\n",
        "print(ds)\n",
        "print(\"Multiply two Series:\")\n",
        "ds = ds1 * ds2\n",
        "print(ds)\n",
        "print(\"Divide Series1 by Series2:\")\n",
        "ds = ds1 / ds2\n",
        "print(ds)\n"
      ],
      "execution_count": null,
      "outputs": [
        {
          "output_type": "stream",
          "text": [
            "Add two Series:\n",
            "0       1.0\n",
            "1       5.0\n",
            "2       9.0\n",
            "3      13.0\n",
            "4      17.0\n",
            "5      21.0\n",
            "6      25.0\n",
            "7      29.0\n",
            "8      33.0\n",
            "9      37.0\n",
            "10     41.0\n",
            "11     45.0\n",
            "12     49.0\n",
            "13     53.0\n",
            "14     57.0\n",
            "15     61.0\n",
            "16     65.0\n",
            "17     69.0\n",
            "18     73.0\n",
            "19     77.0\n",
            "20     81.0\n",
            "21     85.0\n",
            "22     89.0\n",
            "23     93.0\n",
            "24     97.0\n",
            "25    101.0\n",
            "26    105.0\n",
            "27    109.0\n",
            "28    113.0\n",
            "29    117.0\n",
            "30    121.0\n",
            "31    125.0\n",
            "32    129.0\n",
            "33    133.0\n",
            "34    137.0\n",
            "35    141.0\n",
            "36    145.0\n",
            "37    149.0\n",
            "38    153.0\n",
            "39    157.0\n",
            "40    161.0\n",
            "41    165.0\n",
            "42    169.0\n",
            "43    173.0\n",
            "44    177.0\n",
            "45    181.0\n",
            "46    185.0\n",
            "47    189.0\n",
            "48    193.0\n",
            "49    197.0\n",
            "50      NaN\n",
            "dtype: float64\n",
            "Subtract two Series:\n",
            "0    -1.0\n",
            "1    -1.0\n",
            "2    -1.0\n",
            "3    -1.0\n",
            "4    -1.0\n",
            "5    -1.0\n",
            "6    -1.0\n",
            "7    -1.0\n",
            "8    -1.0\n",
            "9    -1.0\n",
            "10   -1.0\n",
            "11   -1.0\n",
            "12   -1.0\n",
            "13   -1.0\n",
            "14   -1.0\n",
            "15   -1.0\n",
            "16   -1.0\n",
            "17   -1.0\n",
            "18   -1.0\n",
            "19   -1.0\n",
            "20   -1.0\n",
            "21   -1.0\n",
            "22   -1.0\n",
            "23   -1.0\n",
            "24   -1.0\n",
            "25   -1.0\n",
            "26   -1.0\n",
            "27   -1.0\n",
            "28   -1.0\n",
            "29   -1.0\n",
            "30   -1.0\n",
            "31   -1.0\n",
            "32   -1.0\n",
            "33   -1.0\n",
            "34   -1.0\n",
            "35   -1.0\n",
            "36   -1.0\n",
            "37   -1.0\n",
            "38   -1.0\n",
            "39   -1.0\n",
            "40   -1.0\n",
            "41   -1.0\n",
            "42   -1.0\n",
            "43   -1.0\n",
            "44   -1.0\n",
            "45   -1.0\n",
            "46   -1.0\n",
            "47   -1.0\n",
            "48   -1.0\n",
            "49   -1.0\n",
            "50    NaN\n",
            "dtype: float64\n",
            "Multiply two Series:\n",
            "0        0.0\n",
            "1        6.0\n",
            "2       20.0\n",
            "3       42.0\n",
            "4       72.0\n",
            "5      110.0\n",
            "6      156.0\n",
            "7      210.0\n",
            "8      272.0\n",
            "9      342.0\n",
            "10     420.0\n",
            "11     506.0\n",
            "12     600.0\n",
            "13     702.0\n",
            "14     812.0\n",
            "15     930.0\n",
            "16    1056.0\n",
            "17    1190.0\n",
            "18    1332.0\n",
            "19    1482.0\n",
            "20    1640.0\n",
            "21    1806.0\n",
            "22    1980.0\n",
            "23    2162.0\n",
            "24    2352.0\n",
            "25    2550.0\n",
            "26    2756.0\n",
            "27    2970.0\n",
            "28    3192.0\n",
            "29    3422.0\n",
            "30    3660.0\n",
            "31    3906.0\n",
            "32    4160.0\n",
            "33    4422.0\n",
            "34    4692.0\n",
            "35    4970.0\n",
            "36    5256.0\n",
            "37    5550.0\n",
            "38    5852.0\n",
            "39    6162.0\n",
            "40    6480.0\n",
            "41    6806.0\n",
            "42    7140.0\n",
            "43    7482.0\n",
            "44    7832.0\n",
            "45    8190.0\n",
            "46    8556.0\n",
            "47    8930.0\n",
            "48    9312.0\n",
            "49    9702.0\n",
            "50       NaN\n",
            "dtype: float64\n",
            "Divide Series1 by Series2:\n",
            "0     0.000000\n",
            "1     0.666667\n",
            "2     0.800000\n",
            "3     0.857143\n",
            "4     0.888889\n",
            "5     0.909091\n",
            "6     0.923077\n",
            "7     0.933333\n",
            "8     0.941176\n",
            "9     0.947368\n",
            "10    0.952381\n",
            "11    0.956522\n",
            "12    0.960000\n",
            "13    0.962963\n",
            "14    0.965517\n",
            "15    0.967742\n",
            "16    0.969697\n",
            "17    0.971429\n",
            "18    0.972973\n",
            "19    0.974359\n",
            "20    0.975610\n",
            "21    0.976744\n",
            "22    0.977778\n",
            "23    0.978723\n",
            "24    0.979592\n",
            "25    0.980392\n",
            "26    0.981132\n",
            "27    0.981818\n",
            "28    0.982456\n",
            "29    0.983051\n",
            "30    0.983607\n",
            "31    0.984127\n",
            "32    0.984615\n",
            "33    0.985075\n",
            "34    0.985507\n",
            "35    0.985915\n",
            "36    0.986301\n",
            "37    0.986667\n",
            "38    0.987013\n",
            "39    0.987342\n",
            "40    0.987654\n",
            "41    0.987952\n",
            "42    0.988235\n",
            "43    0.988506\n",
            "44    0.988764\n",
            "45    0.989011\n",
            "46    0.989247\n",
            "47    0.989474\n",
            "48    0.989691\n",
            "49    0.989899\n",
            "50         NaN\n",
            "dtype: float64\n"
          ],
          "name": "stdout"
        }
      ]
    },
    {
      "cell_type": "markdown",
      "metadata": {
        "id": "gamHbjM7MPgu",
        "colab_type": "text"
      },
      "source": [
        "#Write a Pandas program to compare (Equivalence, greater than, less than, not equal to )the elements of the two Pandas Series.\n",
        "#Sample Series: [All positive numbers divisable by 7 upto 1000], [All positive numbers divisable by 11 upto 1000]\n"
      ]
    },
    {
      "cell_type": "code",
      "metadata": {
        "id": "Hjbdl9ZuMXFs",
        "colab_type": "code",
        "colab": {
          "base_uri": "https://localhost:8080/",
          "height": 1000
        },
        "outputId": "05a5d72c-8026-4037-89db-8133637fcd31"
      },
      "source": [
        "import pandas as pd\n",
        "l1=([i for i in range(0,1000) if i%7==0])\n",
        "d1 = pd.Series(l1)\n",
        "l2=([i for i in range(0,1000) if i%11==0])\n",
        "d2 = pd.Series(l2)\n",
        "print(\"Compare the elements of the said Series:\")\n",
        "print(\"Equals:\")\n",
        "for i in range (len(l2)):\n",
        "  print(i,\" \",d1[i]==d2[i])\n",
        "print(\"Greater than:\")\n",
        "for i in range(len(l2)):\n",
        "  print(i,\" \",d1[i]>d2[i])\n",
        "print(\"Less than:\")\n",
        "for i in range(len(l2)):\n",
        "  print(i,\" \",d1[i]<d2[i])"
      ],
      "execution_count": null,
      "outputs": [
        {
          "output_type": "stream",
          "text": [
            "Compare the elements of the said Series:\n",
            "Equals:\n",
            "0   True\n",
            "1   False\n",
            "2   False\n",
            "3   False\n",
            "4   False\n",
            "5   False\n",
            "6   False\n",
            "7   False\n",
            "8   False\n",
            "9   False\n",
            "10   False\n",
            "11   False\n",
            "12   False\n",
            "13   False\n",
            "14   False\n",
            "15   False\n",
            "16   False\n",
            "17   False\n",
            "18   False\n",
            "19   False\n",
            "20   False\n",
            "21   False\n",
            "22   False\n",
            "23   False\n",
            "24   False\n",
            "25   False\n",
            "26   False\n",
            "27   False\n",
            "28   False\n",
            "29   False\n",
            "30   False\n",
            "31   False\n",
            "32   False\n",
            "33   False\n",
            "34   False\n",
            "35   False\n",
            "36   False\n",
            "37   False\n",
            "38   False\n",
            "39   False\n",
            "40   False\n",
            "41   False\n",
            "42   False\n",
            "43   False\n",
            "44   False\n",
            "45   False\n",
            "46   False\n",
            "47   False\n",
            "48   False\n",
            "49   False\n",
            "50   False\n",
            "51   False\n",
            "52   False\n",
            "53   False\n",
            "54   False\n",
            "55   False\n",
            "56   False\n",
            "57   False\n",
            "58   False\n",
            "59   False\n",
            "60   False\n",
            "61   False\n",
            "62   False\n",
            "63   False\n",
            "64   False\n",
            "65   False\n",
            "66   False\n",
            "67   False\n",
            "68   False\n",
            "69   False\n",
            "70   False\n",
            "71   False\n",
            "72   False\n",
            "73   False\n",
            "74   False\n",
            "75   False\n",
            "76   False\n",
            "77   False\n",
            "78   False\n",
            "79   False\n",
            "80   False\n",
            "81   False\n",
            "82   False\n",
            "83   False\n",
            "84   False\n",
            "85   False\n",
            "86   False\n",
            "87   False\n",
            "88   False\n",
            "89   False\n",
            "90   False\n",
            "Greater than:\n",
            "0   False\n",
            "1   False\n",
            "2   False\n",
            "3   False\n",
            "4   False\n",
            "5   False\n",
            "6   False\n",
            "7   False\n",
            "8   False\n",
            "9   False\n",
            "10   False\n",
            "11   False\n",
            "12   False\n",
            "13   False\n",
            "14   False\n",
            "15   False\n",
            "16   False\n",
            "17   False\n",
            "18   False\n",
            "19   False\n",
            "20   False\n",
            "21   False\n",
            "22   False\n",
            "23   False\n",
            "24   False\n",
            "25   False\n",
            "26   False\n",
            "27   False\n",
            "28   False\n",
            "29   False\n",
            "30   False\n",
            "31   False\n",
            "32   False\n",
            "33   False\n",
            "34   False\n",
            "35   False\n",
            "36   False\n",
            "37   False\n",
            "38   False\n",
            "39   False\n",
            "40   False\n",
            "41   False\n",
            "42   False\n",
            "43   False\n",
            "44   False\n",
            "45   False\n",
            "46   False\n",
            "47   False\n",
            "48   False\n",
            "49   False\n",
            "50   False\n",
            "51   False\n",
            "52   False\n",
            "53   False\n",
            "54   False\n",
            "55   False\n",
            "56   False\n",
            "57   False\n",
            "58   False\n",
            "59   False\n",
            "60   False\n",
            "61   False\n",
            "62   False\n",
            "63   False\n",
            "64   False\n",
            "65   False\n",
            "66   False\n",
            "67   False\n",
            "68   False\n",
            "69   False\n",
            "70   False\n",
            "71   False\n",
            "72   False\n",
            "73   False\n",
            "74   False\n",
            "75   False\n",
            "76   False\n",
            "77   False\n",
            "78   False\n",
            "79   False\n",
            "80   False\n",
            "81   False\n",
            "82   False\n",
            "83   False\n",
            "84   False\n",
            "85   False\n",
            "86   False\n",
            "87   False\n",
            "88   False\n",
            "89   False\n",
            "90   False\n",
            "Less than:\n",
            "0   False\n",
            "1   True\n",
            "2   True\n",
            "3   True\n",
            "4   True\n",
            "5   True\n",
            "6   True\n",
            "7   True\n",
            "8   True\n",
            "9   True\n",
            "10   True\n",
            "11   True\n",
            "12   True\n",
            "13   True\n",
            "14   True\n",
            "15   True\n",
            "16   True\n",
            "17   True\n",
            "18   True\n",
            "19   True\n",
            "20   True\n",
            "21   True\n",
            "22   True\n",
            "23   True\n",
            "24   True\n",
            "25   True\n",
            "26   True\n",
            "27   True\n",
            "28   True\n",
            "29   True\n",
            "30   True\n",
            "31   True\n",
            "32   True\n",
            "33   True\n",
            "34   True\n",
            "35   True\n",
            "36   True\n",
            "37   True\n",
            "38   True\n",
            "39   True\n",
            "40   True\n",
            "41   True\n",
            "42   True\n",
            "43   True\n",
            "44   True\n",
            "45   True\n",
            "46   True\n",
            "47   True\n",
            "48   True\n",
            "49   True\n",
            "50   True\n",
            "51   True\n",
            "52   True\n",
            "53   True\n",
            "54   True\n",
            "55   True\n",
            "56   True\n",
            "57   True\n",
            "58   True\n",
            "59   True\n",
            "60   True\n",
            "61   True\n",
            "62   True\n",
            "63   True\n",
            "64   True\n",
            "65   True\n",
            "66   True\n",
            "67   True\n",
            "68   True\n",
            "69   True\n",
            "70   True\n",
            "71   True\n",
            "72   True\n",
            "73   True\n",
            "74   True\n",
            "75   True\n",
            "76   True\n",
            "77   True\n",
            "78   True\n",
            "79   True\n",
            "80   True\n",
            "81   True\n",
            "82   True\n",
            "83   True\n",
            "84   True\n",
            "85   True\n",
            "86   True\n",
            "87   True\n",
            "88   True\n",
            "89   True\n",
            "90   True\n"
          ],
          "name": "stdout"
        }
      ]
    },
    {
      "cell_type": "markdown",
      "metadata": {
        "id": "05inIhogQ4ZI",
        "colab_type": "text"
      },
      "source": [
        "#Write a Pandas program to convert a NumPy array to a Pandas series. \n",
        "#Sample NumPy array: d1 = [10, 20, 30, 40, 50... 1000]\n"
      ]
    },
    {
      "cell_type": "code",
      "metadata": {
        "id": "Wv8DBfi8RKIb",
        "colab_type": "code",
        "colab": {
          "base_uri": "https://localhost:8080/",
          "height": 391
        },
        "outputId": "6dc32ce5-4543-4a7c-a94c-7aaed757181a"
      },
      "source": [
        "import numpy as np\n",
        "import pandas as pd\n",
        "l1=([i for i in range(0,1001) if i%10==0])\n",
        "np_array = np.array(l1)\n",
        "print(\"NumPy array:\")\n",
        "print(np_array)\n",
        "new_series = pd.Series(np_array)\n",
        "print(\"Converted Pandas series:\")\n",
        "print(new_series)\n"
      ],
      "execution_count": null,
      "outputs": [
        {
          "output_type": "stream",
          "text": [
            "NumPy array:\n",
            "[   0   10   20   30   40   50   60   70   80   90  100  110  120  130\n",
            "  140  150  160  170  180  190  200  210  220  230  240  250  260  270\n",
            "  280  290  300  310  320  330  340  350  360  370  380  390  400  410\n",
            "  420  430  440  450  460  470  480  490  500  510  520  530  540  550\n",
            "  560  570  580  590  600  610  620  630  640  650  660  670  680  690\n",
            "  700  710  720  730  740  750  760  770  780  790  800  810  820  830\n",
            "  840  850  860  870  880  890  900  910  920  930  940  950  960  970\n",
            "  980  990 1000]\n",
            "Converted Pandas series:\n",
            "0         0\n",
            "1        10\n",
            "2        20\n",
            "3        30\n",
            "4        40\n",
            "       ... \n",
            "96      960\n",
            "97      970\n",
            "98      980\n",
            "99      990\n",
            "100    1000\n",
            "Length: 101, dtype: int64\n"
          ],
          "name": "stdout"
        }
      ]
    },
    {
      "cell_type": "markdown",
      "metadata": {
        "id": "gMCxx6sYRYoi",
        "colab_type": "text"
      },
      "source": [
        "#Write a Pandas program to convert a given Series to an array.\n",
        "#Sample series is ['100', '200', ‘300’,’400’,’500’,'python', '300.12', '400',’is’,’great’,’language’]\n",
        "\n"
      ]
    },
    {
      "cell_type": "code",
      "metadata": {
        "id": "W_N7dFDnRfQV",
        "colab_type": "code",
        "colab": {
          "base_uri": "https://localhost:8080/",
          "height": 301
        },
        "outputId": "e8a3cf7d-fc11-4fe2-f1fd-1b61cc4a0112"
      },
      "source": [
        "import numpy as np\n",
        "s1 = pd.Series(['100', '200', '300','400','500','python', '300.12', '400','is','great','language'])\n",
        "print(\"Original Data Series:\")\n",
        "print(s1)\n",
        "print(\"Series to an array\")\n",
        "a = np.array(s1.values.tolist())\n",
        "print (a)\n"
      ],
      "execution_count": null,
      "outputs": [
        {
          "output_type": "stream",
          "text": [
            "Original Data Series:\n",
            "0          100\n",
            "1          200\n",
            "2          300\n",
            "3          400\n",
            "4          500\n",
            "5       python\n",
            "6       300.12\n",
            "7          400\n",
            "8           is\n",
            "9        great\n",
            "10    language\n",
            "dtype: object\n",
            "Series to an array\n",
            "['100' '200' '300' '400' '500' 'python' '300.12' '400' 'is' 'great'\n",
            " 'language']\n"
          ],
          "name": "stdout"
        }
      ]
    },
    {
      "cell_type": "markdown",
      "metadata": {
        "id": "orTD-e-PSIp4",
        "colab_type": "text"
      },
      "source": [
        "#Write a Pandas program to sort a given Series.\n",
        "#Sample series is ['100', '200', ‘300’,’400’,’500’,'python', '300.12', '400',’is’,’great’,’language’]\n"
      ]
    },
    {
      "cell_type": "code",
      "metadata": {
        "id": "th9-q48qSQOf",
        "colab_type": "code",
        "colab": {
          "base_uri": "https://localhost:8080/",
          "height": 461
        },
        "outputId": "ef331491-c1fe-46ae-850f-0742e1be4c1a"
      },
      "source": [
        "import pandas as pd\n",
        "s = pd.Series(['100', '200', '300','400','500','python', '300.12', '400','is','great','language'])\n",
        "print(\"Original Data Series:\")\n",
        "print(s)\n",
        "new_s = pd.Series(s).sort_values()\n",
        "print(new_s)\n",
        "\n"
      ],
      "execution_count": null,
      "outputs": [
        {
          "output_type": "stream",
          "text": [
            "Original Data Series:\n",
            "0          100\n",
            "1          200\n",
            "2          300\n",
            "3          400\n",
            "4          500\n",
            "5       python\n",
            "6       300.12\n",
            "7          400\n",
            "8           is\n",
            "9        great\n",
            "10    language\n",
            "dtype: object\n",
            "0          100\n",
            "1          200\n",
            "2          300\n",
            "6       300.12\n",
            "3          400\n",
            "7          400\n",
            "4          500\n",
            "9        great\n",
            "8           is\n",
            "10    language\n",
            "5       python\n",
            "dtype: object\n"
          ],
          "name": "stdout"
        }
      ]
    },
    {
      "cell_type": "markdown",
      "metadata": {
        "id": "jBl1t8dkSerF",
        "colab_type": "text"
      },
      "source": [
        "#Write a Pandas program to create a subsets of a given series based on value and condition.\n",
        "#Sample NumPy array: d1 = [10, 20, 30, 40, 50... 1000]\n",
        "# value and condtion :  Subset 1 :numbers divisable by 7  Subset 2 : numbers divisable by 5\n"
      ]
    },
    {
      "cell_type": "code",
      "metadata": {
        "id": "wH7rzIY_SoE2",
        "colab_type": "code",
        "colab": {
          "base_uri": "https://localhost:8080/",
          "height": 781
        },
        "outputId": "305b1517-9866-40e1-be13-82e7203f3f73"
      },
      "source": [
        "import pandas as pd\n",
        "l1=([i for i in range(0,1001) if i%10==0])\n",
        "s = pd.Series(l1)\n",
        "print(\"Original Data Series:\")\n",
        "print(s)\n",
        "print(\"\\nSubset of the above Data Series:\")\n",
        "n=7\n",
        "new_s = s[s%n==0]\n",
        "print(new_s)\n",
        "n=5\n",
        "new_s = s[s%n==0]\n",
        "print(new_s)\n"
      ],
      "execution_count": null,
      "outputs": [
        {
          "output_type": "stream",
          "text": [
            "Original Data Series:\n",
            "0         0\n",
            "1        10\n",
            "2        20\n",
            "3        30\n",
            "4        40\n",
            "       ... \n",
            "96      960\n",
            "97      970\n",
            "98      980\n",
            "99      990\n",
            "100    1000\n",
            "Length: 101, dtype: int64\n",
            "\n",
            "Subset of the above Data Series:\n",
            "0       0\n",
            "7      70\n",
            "14    140\n",
            "21    210\n",
            "28    280\n",
            "35    350\n",
            "42    420\n",
            "49    490\n",
            "56    560\n",
            "63    630\n",
            "70    700\n",
            "77    770\n",
            "84    840\n",
            "91    910\n",
            "98    980\n",
            "dtype: int64\n",
            "0         0\n",
            "1        10\n",
            "2        20\n",
            "3        30\n",
            "4        40\n",
            "       ... \n",
            "96      960\n",
            "97      970\n",
            "98      980\n",
            "99      990\n",
            "100    1000\n",
            "Length: 101, dtype: int64\n"
          ],
          "name": "stdout"
        }
      ]
    },
    {
      "cell_type": "markdown",
      "metadata": {
        "id": "QGevaxSnWxem",
        "colab_type": "text"
      },
      "source": [
        "#Write a Pandas program to create the mean and standard deviation, maximum and minimum of the data of a given Series of the prime numbers upto 1000\n",
        "\n"
      ]
    },
    {
      "cell_type": "code",
      "metadata": {
        "id": "nO8pQL8lXHXZ",
        "colab_type": "code",
        "colab": {
          "base_uri": "https://localhost:8080/",
          "height": 318
        },
        "outputId": "008b73ef-ec39-437c-ea6d-7b5e3e4b884c"
      },
      "source": [
        "import pandas as pd\n",
        "l=[]\n",
        "for val in range(0,1001):\n",
        "  if val > 1: \n",
        "        for n in range(2, val//2 + 2): \n",
        "            if (val % n) == 0: \n",
        "                break\n",
        "            else: \n",
        "                if n == val//2 + 1: \n",
        "                    l.append(val)\n",
        "s = pd.Series(data = l)\n",
        "print(\"Original Data Series:\")\n",
        "print(s)\n",
        "print(\"Mean of the said Data Series:\")\n",
        "print(s.mean())\n",
        "print(\"Standard deviation of the said Data Series:\")\n",
        "print(s.std())\n"
      ],
      "execution_count": null,
      "outputs": [
        {
          "output_type": "stream",
          "text": [
            "Original Data Series:\n",
            "0        3\n",
            "1        5\n",
            "2        7\n",
            "3       11\n",
            "4       13\n",
            "      ... \n",
            "162    971\n",
            "163    977\n",
            "164    983\n",
            "165    991\n",
            "166    997\n",
            "Length: 167, dtype: int64\n",
            "Mean of the said Data Series:\n",
            "455.8383233532934\n",
            "Standard deviation of the said Data Series:\n",
            "297.0201672063572\n"
          ],
          "name": "stdout"
        }
      ]
    },
    {
      "cell_type": "markdown",
      "metadata": {
        "id": "aWMihij7Yc5H",
        "colab_type": "text"
      },
      "source": [
        "#Write a Pandas program to get the elements of an array values into column-wise.\n",
        "#Sample data: {‘X’:[All odd numbers but not divisable by 7 upto 1000], 'Y':[ All even numbers but not divisable by 5 upto 1000 ],'Z':[ All odd numbers but not divisable by 3 upto 1000]}\n",
        "\n"
      ]
    },
    {
      "cell_type": "code",
      "metadata": {
        "id": "Qv_kgrGKYh2H",
        "colab_type": "code",
        "colab": {
          "base_uri": "https://localhost:8080/",
          "height": 123
        },
        "outputId": "7cb3b60b-5e81-4359-fdff-48589597cb1e"
      },
      "source": [
        "import pandas as pd\n",
        "df = pd.DataFrame({'X':[78,85,96,80,86], 'Y':[84,94,89,83,86],'Z':[86,97,96,72,83]});\n",
        "print(df)"
      ],
      "execution_count": null,
      "outputs": [
        {
          "output_type": "stream",
          "text": [
            "    X   Y   Z\n",
            "0  78  84  86\n",
            "1  85  94  97\n",
            "2  96  89  96\n",
            "3  80  83  72\n",
            "4  86  86  83\n"
          ],
          "name": "stdout"
        }
      ]
    },
    {
      "cell_type": "markdown",
      "metadata": {
        "id": "t67_6cafbrsS",
        "colab_type": "text"
      },
      "source": [
        "#Write a Pandas program to display the first 10 rows of the DataFrame for any particular three fields"
      ]
    },
    {
      "cell_type": "code",
      "metadata": {
        "id": "d7lYODlzbxu9",
        "colab_type": "code",
        "colab": {
          "base_uri": "https://localhost:8080/",
          "height": 230
        },
        "outputId": "356d6729-a509-4a0a-a1bf-295671faac6e"
      },
      "source": [
        "import pandas as pd\n",
        "df = pd.read_csv('movies.csv')\n",
        "#Display the first 10 rows\n",
        "small_df = df[['rating','budget','year']]\n",
        "result = small_df.head(10)\n",
        "print(\"First 10 rows of the DataFrame:\")\n",
        "print(result)\n",
        "\n",
        "\n"
      ],
      "execution_count": null,
      "outputs": [
        {
          "output_type": "stream",
          "text": [
            "First 10 rows of the DataFrame:\n",
            "   rating  budget  year\n",
            "0       4  7 lack  2017\n",
            "1       4   8lack  2018\n",
            "2       4  9 lack  2019\n",
            "3       4   7lack  2012\n",
            "4       4  8 lack  2013\n",
            "5       4  9 lack  2015\n",
            "6       5   3lack  2020\n",
            "7       5   4lack  2010\n",
            "8       5  10lack  2013\n",
            "9       5  11lack  2014\n"
          ],
          "name": "stdout"
        }
      ]
    },
    {
      "cell_type": "markdown",
      "metadata": {
        "id": "xr_K2SybeMFm",
        "colab_type": "text"
      },
      "source": [
        "#Write a Pandas program to get the details of the seventh movie of the DataFrame for any particular three fields (movies.csv file)."
      ]
    },
    {
      "cell_type": "code",
      "metadata": {
        "id": "NmDL2D0xeU_6",
        "colab_type": "code",
        "colab": {
          "base_uri": "https://localhost:8080/",
          "height": 105
        },
        "outputId": "2019321a-de27-485d-d1dd-8d7f21ed4f55"
      },
      "source": [
        "import pandas as pd\n",
        "df = pd.read_csv('movies.csv')\n",
        "small_df = df[['rating','budget','year']]\n",
        "third_movie = small_df.iloc[6]\n",
        "print(\"Details of the 7th moviee:\")\n",
        "print(third_movie)\n"
      ],
      "execution_count": null,
      "outputs": [
        {
          "output_type": "stream",
          "text": [
            "Details of the 7th moviee:\n",
            "rating        5\n",
            "budget    3lack\n",
            "year       2020\n",
            "Name: 6, dtype: object\n"
          ],
          "name": "stdout"
        }
      ]
    },
    {
      "cell_type": "markdown",
      "metadata": {
        "id": "BP7JlJ85euxR",
        "colab_type": "text"
      },
      "source": [
        "#Write a Pandas program to sort the DataFrame based on title_year from dataset of movies.csv for any particular three fields "
      ]
    },
    {
      "cell_type": "code",
      "metadata": {
        "id": "Iqhn7h-be1Gs",
        "colab_type": "code",
        "colab": {
          "base_uri": "https://localhost:8080/",
          "height": 283
        },
        "outputId": "1c527bd3-0f0c-4c8e-98ed-7b9d81a8e642"
      },
      "source": [
        "import pandas as pd\n",
        "df = pd.read_csv('movies.csv')\n",
        "small_df = df[['rating','budget','year']]\n",
        "result = small_df.sort_values('year')\n",
        "print(\"DataFrame based on release date.\")\n",
        "print(result)\n",
        "\n",
        "\n"
      ],
      "execution_count": null,
      "outputs": [
        {
          "output_type": "stream",
          "text": [
            "DataFrame based on release date.\n",
            "    rating  budget  year\n",
            "7        5   4lack  2010\n",
            "3        4   7lack  2012\n",
            "4        4  8 lack  2013\n",
            "8        5  10lack  2013\n",
            "9        5  11lack  2014\n",
            "5        4  9 lack  2015\n",
            "10       5  12lack  2015\n",
            "11       5  20lack  2016\n",
            "0        4  7 lack  2017\n",
            "12       5  30lack  2017\n",
            "1        4   8lack  2018\n",
            "2        4  9 lack  2019\n",
            "6        5   3lack  2020\n"
          ],
          "name": "stdout"
        }
      ]
    },
    {
      "cell_type": "markdown",
      "metadata": {
        "id": "LrhqauHmfbdA",
        "colab_type": "text"
      },
      "source": [
        "#Write a Pandas program to sort the DataFrame based on country  and language from dataset of  movies.csv"
      ]
    },
    {
      "cell_type": "code",
      "metadata": {
        "id": "yCrU1iz4fiD7",
        "colab_type": "code",
        "colab": {
          "base_uri": "https://localhost:8080/",
          "height": 550
        },
        "outputId": "d08944cc-1570-47f5-9a40-464c6dfa9b28"
      },
      "source": [
        "import pandas as pd\n",
        "import numpy as np\n",
        "df = pd.read_csv('movies.csv')\n",
        "print(\"sorted by country\")\n",
        "result = df.sort_values('country')\n",
        "print(result)\n",
        "print(\"sorted by lang\")\n",
        "result = df.sort_values('language')\n",
        "print(result)\n"
      ],
      "execution_count": null,
      "outputs": [
        {
          "output_type": "stream",
          "text": [
            "sorted by country\n",
            "    reviews language country  budget  rating  year    actor\n",
            "2         2    hindi     ast  9 lack       4  2019     yash\n",
            "0         4      eng     end  7 lack       4  2017   salman\n",
            "5         3      eng     end  9 lack       4  2015   sudeep\n",
            "1         3  kannada     ind   8lack       4  2018   vijaya\n",
            "6         5  kannada     ind   3lack       5  2020     yash\n",
            "7         5      eng     ind   4lack       5  2010  jaggesh\n",
            "8         4  kannada     ind  10lack       5  2013    singh\n",
            "9         3      eng     ind  11lack       5  2014     amit\n",
            "10        2      eng     ind  12lack       5  2015     amog\n",
            "11        2      eng     ind  20lack       5  2016  radhika\n",
            "12        2      eng     ind  30lack       5  2017   bavana\n",
            "4         4    telgu  russia  8 lack       4  2013   roshan\n",
            "3         5    tamil     usa   7lack       4  2012    arjun\n",
            "sorted by lang\n",
            "    reviews language country  budget  rating  year    actor\n",
            "0         4      eng     end  7 lack       4  2017   salman\n",
            "5         3      eng     end  9 lack       4  2015   sudeep\n",
            "7         5      eng     ind   4lack       5  2010  jaggesh\n",
            "9         3      eng     ind  11lack       5  2014     amit\n",
            "10        2      eng     ind  12lack       5  2015     amog\n",
            "11        2      eng     ind  20lack       5  2016  radhika\n",
            "12        2      eng     ind  30lack       5  2017   bavana\n",
            "2         2    hindi     ast  9 lack       4  2019     yash\n",
            "1         3  kannada     ind   8lack       4  2018   vijaya\n",
            "6         5  kannada     ind   3lack       5  2020     yash\n",
            "8         4  kannada     ind  10lack       5  2013    singh\n",
            "3         5    tamil     usa   7lack       4  2012    arjun\n",
            "4         4    telgu  russia  8 lack       4  2013   roshan\n"
          ],
          "name": "stdout"
        }
      ]
    },
    {
      "cell_type": "markdown",
      "metadata": {
        "id": "ilmDZ8GpgOQu",
        "colab_type": "text"
      },
      "source": [
        "#Write a Pandas program to get the details of the movies record number divisable by 5 of the DataFrame (movies.csv file)."
      ]
    },
    {
      "cell_type": "code",
      "metadata": {
        "id": "3p8_LThemLWP",
        "colab_type": "code",
        "colab": {
          "base_uri": "https://localhost:8080/",
          "height": 141
        },
        "outputId": "64fdf30d-c422-49f5-f3bc-8e23a7d07681"
      },
      "source": [
        "import pandas as pd\n",
        "df = pd.read_csv('movies.csv')\n",
        "result = df[(df['record'] %5==0)]\n",
        "print(\"Movies record num divisible by 5 are\")\n",
        "print(result.head())"
      ],
      "execution_count": null,
      "outputs": [
        {
          "output_type": "stream",
          "text": [
            "Movies record num divisible by 5 are\n",
            "   reviews language country  budget  rating  year    actor  record\n",
            "0        4      eng     end  7 lack       4  2017   salman    2000\n",
            "1        3  kannada     ind   8lack       4  2018   vijaya    3000\n",
            "4        4    telgu  russia  8 lack       4  2013   roshan    4545\n",
            "5        3      eng     end  9 lack       4  2015   sudeep    2525\n",
            "7        5      eng     ind   4lack       5  2010  jaggesh    2000\n"
          ],
          "name": "stdout"
        }
      ]
    },
    {
      "cell_type": "markdown",
      "metadata": {
        "id": "iaPMULHMoUtH",
        "colab_type": "text"
      },
      "source": [
        "#Write a Pandas program to find the mean and standard deviation, maximum and minimum of the data of  50 students Python marks stored in a CSV file called Python_mark.csv( you have to create the file yourself like rollno,mark for 50 records)\n",
        "\n"
      ]
    },
    {
      "cell_type": "code",
      "metadata": {
        "id": "IihbjRpOoYXm",
        "colab_type": "code",
        "colab": {
          "base_uri": "https://localhost:8080/",
          "height": 976
        },
        "outputId": "ed36ee15-6a49-42e5-d0f5-e19d9d031022"
      },
      "source": [
        "import pandas as pd\n",
        "df = pd.read_csv('Python_marks.csv')\n",
        "mean1 = df['marks'].mean()\n",
        "max1 = df['marks'].max()\n",
        "min1 = df['marks'].min()\n",
        "std1 = df['marks'].std() \n",
        "print(\"file content: \",df)\n",
        "print ('Mean : ' + str(mean1))\n",
        "print ('S.D: ' + str(std1))\n",
        "print ('Minimum : ' + str(min1))\n",
        "print ('Maximum : ' + str(max1))\n",
        "\n"
      ],
      "execution_count": null,
      "outputs": [
        {
          "output_type": "stream",
          "text": [
            "file content:      rollnum  marks\n",
            "0        66     30\n",
            "1        67     29\n",
            "2        68     28\n",
            "3        69     27\n",
            "4        70     25\n",
            "5        71     24\n",
            "6        72     23\n",
            "7        73     22\n",
            "8        74     21\n",
            "9        75     20\n",
            "10       76     25\n",
            "11       77     26\n",
            "12       78     29\n",
            "13       79     17\n",
            "14       82     18\n",
            "15       22     19\n",
            "16       23     14\n",
            "17       28     15\n",
            "18       25     16\n",
            "19       24     12\n",
            "20       89     10\n",
            "21       90      9\n",
            "22       91      8\n",
            "23       92      6\n",
            "24       93     25\n",
            "25       94     26\n",
            "26       95     27\n",
            "27       96     27\n",
            "28       97     28\n",
            "29       98     29\n",
            "30       99     29\n",
            "31      100     29\n",
            "32      101     24\n",
            "33      102     22\n",
            "34      103     21\n",
            "35      104     22\n",
            "36      105     25\n",
            "37      106     21\n",
            "38      107     17\n",
            "39      108     18\n",
            "40      110     19\n",
            "41      111     20\n",
            "42      112     20\n",
            "43      113     20\n",
            "44      114     19\n",
            "45      115     22\n",
            "46      116     23\n",
            "47      117     27\n",
            "48      118     28\n",
            "Mean : 21.653061224489797\n",
            "S.D: 6.0053830727390025\n",
            "Minimum : 6\n",
            "Maximum : 30\n"
          ],
          "name": "stdout"
        }
      ]
    },
    {
      "cell_type": "markdown",
      "metadata": {
        "id": "X0TyC13ds6B_",
        "colab_type": "text"
      },
      "source": [
        "#Write a NumPy program to create a random 4x4 array and extract the 2nd and 3rd rows of the  array and store them into a variable.\n",
        "\n"
      ]
    },
    {
      "cell_type": "code",
      "metadata": {
        "id": "UW0FHSsrtXB1",
        "colab_type": "code",
        "colab": {
          "base_uri": "https://localhost:8080/",
          "height": 141
        },
        "outputId": "712b54d9-83d1-4057-b5a0-dc6b48829444"
      },
      "source": [
        "import numpy as np\n",
        "x = np.random.random((4,4))\n",
        "print(x)\n",
        "print(\"2nd and 3rd rows of the above array:\")\n",
        "y= x[1:3, :]\n",
        "print(y)\n"
      ],
      "execution_count": null,
      "outputs": [
        {
          "output_type": "stream",
          "text": [
            "[[0.14085316 0.4320774  0.51789052 0.79541724]\n",
            " [0.58598354 0.47371213 0.98456639 0.80789855]\n",
            " [0.6640794  0.68702337 0.41840694 0.73953326]\n",
            " [0.70740571 0.78674331 0.99118271 0.86779108]]\n",
            "2nd and 3rd rows of the above array:\n",
            "[[0.58598354 0.47371213 0.98456639 0.80789855]\n",
            " [0.6640794  0.68702337 0.41840694 0.73953326]]\n"
          ],
          "name": "stdout"
        }
      ]
    },
    {
      "cell_type": "markdown",
      "metadata": {
        "id": "GwjrmdJIuVlY",
        "colab_type": "text"
      },
      "source": [
        "#Write a NumPy program to create a 10x10 array with random values and find the minimum and maximum values."
      ]
    },
    {
      "cell_type": "code",
      "metadata": {
        "id": "PQgtMTRAuZoN",
        "colab_type": "code",
        "colab": {
          "base_uri": "https://localhost:8080/",
          "height": 425
        },
        "outputId": "0e05940c-70be-4def-8693-e99bd7d67f71"
      },
      "source": [
        "import numpy as np\n",
        "x = np.random.random((10,10))\n",
        "print(\"Original Array:\")\n",
        "print(x) \n",
        "xmin, xmax = x.min(), x.max()\n",
        "print(\"Minimum and Maximum Values:\")\n",
        "print(xmin, xmax)"
      ],
      "execution_count": null,
      "outputs": [
        {
          "output_type": "stream",
          "text": [
            "Original Array:\n",
            "[[0.20371969 0.07708205 0.97255134 0.17340541 0.427097   0.82101095\n",
            "  0.45877201 0.01657894 0.34512389 0.17283362]\n",
            " [0.23674856 0.85253731 0.62485455 0.90183104 0.15762001 0.83220096\n",
            "  0.27314281 0.86217061 0.65820531 0.66611101]\n",
            " [0.39024645 0.49766387 0.63047822 0.53637549 0.60967244 0.70258486\n",
            "  0.66194689 0.03069068 0.58703993 0.56957965]\n",
            " [0.32902757 0.43703056 0.87497356 0.26614585 0.03400898 0.43911579\n",
            "  0.70461219 0.32967789 0.243564   0.18888512]\n",
            " [0.17629927 0.5353419  0.14117532 0.8239303  0.63112121 0.46219268\n",
            "  0.82773888 0.30863059 0.04480681 0.88922045]\n",
            " [0.21562054 0.5199983  0.90672161 0.57893255 0.51840983 0.1472263\n",
            "  0.57372005 0.08368321 0.72995345 0.41455205]\n",
            " [0.58346474 0.66126708 0.77172542 0.28313841 0.73299358 0.46509958\n",
            "  0.36912959 0.98284821 0.69293908 0.91587107]\n",
            " [0.10494319 0.71540838 0.99886069 0.97370183 0.03857738 0.54274295\n",
            "  0.29714534 0.73175944 0.9239467  0.96677341]\n",
            " [0.85136726 0.71362925 0.86850948 0.61981856 0.50534469 0.80987201\n",
            "  0.84119756 0.90050418 0.87924811 0.24254535]\n",
            " [0.03535048 0.01019018 0.77595966 0.75059748 0.29744749 0.43961136\n",
            "  0.38804628 0.626463   0.53402177 0.62098982]]\n",
            "Minimum and Maximum Values:\n",
            "0.010190179877821892 0.9988606935616939\n"
          ],
          "name": "stdout"
        }
      ]
    },
    {
      "cell_type": "markdown",
      "metadata": {
        "id": "fy6W8xCwumok",
        "colab_type": "text"
      },
      "source": [
        ""
      ]
    },
    {
      "cell_type": "markdown",
      "metadata": {
        "id": "bIEHvLntumrd",
        "colab_type": "text"
      },
      "source": [
        "#Write a NumPy program to generate 8 random integers between 100 and 300"
      ]
    },
    {
      "cell_type": "code",
      "metadata": {
        "id": "l99kfgaOunz0",
        "colab_type": "code",
        "colab": {
          "base_uri": "https://localhost:8080/",
          "height": 34
        },
        "outputId": "85248163-6d2e-470c-a642-a90581741f19"
      },
      "source": [
        "import numpy as np\n",
        "x = np.random.randint(low=100, high=300, size=8)\n",
        "print(x)"
      ],
      "execution_count": null,
      "outputs": [
        {
          "output_type": "stream",
          "text": [
            "[108 263 229 124 266 230 272 150]\n"
          ],
          "name": "stdout"
        }
      ]
    },
    {
      "cell_type": "markdown",
      "metadata": {
        "id": "M0d5X2leu79H",
        "colab_type": "text"
      },
      "source": [
        "#Write a NumPy program to create a random integer nos of size 20 and sort it."
      ]
    },
    {
      "cell_type": "code",
      "metadata": {
        "id": "kePP7Juuu_Sh",
        "colab_type": "code",
        "colab": {
          "base_uri": "https://localhost:8080/",
          "height": 52
        },
        "outputId": "02ab10cf-1b5e-4333-c95d-fef0e028c8be"
      },
      "source": [
        "import numpy as np\n",
        "x=np.arange(20)\n",
        "np.random.shuffle(x)\n",
        "print(x)\n",
        "x.sort()\n",
        "print(x)\n",
        "\n"
      ],
      "execution_count": null,
      "outputs": [
        {
          "output_type": "stream",
          "text": [
            "[15 17  7 12 11  5 14  2  9 18  8  6 19  4 10  3 16  1  0 13]\n",
            "[ 0  1  2  3  4  5  6  7  8  9 10 11 12 13 14 15 16 17 18 19]\n"
          ],
          "name": "stdout"
        }
      ]
    }
  ]
}