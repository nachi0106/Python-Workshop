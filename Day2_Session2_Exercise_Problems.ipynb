{
  "nbformat": 4,
  "nbformat_minor": 0,
  "metadata": {
    "colab": {
      "name": "Untitled2.ipynb",
      "provenance": [],
      "authorship_tag": "ABX9TyPPzsrX6RcpMIq5dr83B4yU",
      "include_colab_link": true
    },
    "kernelspec": {
      "name": "python3",
      "display_name": "Python 3"
    }
  },
  "cells": [
    {
      "cell_type": "markdown",
      "metadata": {
        "id": "view-in-github",
        "colab_type": "text"
      },
      "source": [
        "<a href=\"https://colab.research.google.com/github/nachi0106/Python-Workshop/blob/master/Day2_Session2_Exercise_Problems.ipynb\" target=\"_parent\"><img src=\"https://colab.research.google.com/assets/colab-badge.svg\" alt=\"Open In Colab\"/></a>"
      ]
    },
    {
      "cell_type": "code",
      "metadata": {
        "id": "lkT3RieiBDrJ",
        "colab_type": "code",
        "colab": {}
      },
      "source": [
        ""
      ],
      "execution_count": null,
      "outputs": []
    },
    {
      "cell_type": "markdown",
      "metadata": {
        "id": "7Pw5YEGfb4bC",
        "colab_type": "text"
      },
      "source": [
        "# Dictionary Exercises"
      ]
    },
    {
      "cell_type": "markdown",
      "metadata": {
        "id": "NQ4NNHoEcB6i",
        "colab_type": "text"
      },
      "source": [
        "# \tAdd rollno and marks {name:mark} for n number of students through keyboard in a dictionary and print the marks in descending order with respective name."
      ]
    },
    {
      "cell_type": "code",
      "metadata": {
        "id": "nbXsmA40cFRb",
        "colab_type": "code",
        "colab": {
          "base_uri": "https://localhost:8080/",
          "height": 170
        },
        "outputId": "9bb08d69-b1f0-4d73-cb28-391e08c07bfd"
      },
      "source": [
        "n=int(input(\"Enter no of records\"))\n",
        "d={}\n",
        "import operator\n",
        "for i in range(1,n+1):\n",
        "  name= input(\"Enter name %d\"%(i))\n",
        "  mark=int(input(\"Enter mark %d\"%(i)))\n",
        "  d[name]=mark\n",
        "print(\"input: \",d)\n",
        "sorted_a= sorted(d.items(), key=operator.itemgetter(1),reverse=True)\n",
        "print(\"output: \",sorted_a)"
      ],
      "execution_count": null,
      "outputs": [
        {
          "output_type": "stream",
          "text": [
            "Enter no of records3\n",
            "Enter name 1laxmi\n",
            "Enter mark 192\n",
            "Enter name 2abhi\n",
            "Enter mark 290\n",
            "Enter name 3priya\n",
            "Enter mark 393\n",
            "input:  {'laxmi': 92, 'abhi': 90, 'priya': 93}\n",
            "output:  [('priya', 93), ('laxmi', 92), ('abhi', 90)]\n"
          ],
          "name": "stdout"
        }
      ]
    },
    {
      "cell_type": "markdown",
      "metadata": {
        "id": "S0dsdhSDdN4p",
        "colab_type": "text"
      },
      "source": [
        "#Add  name and salary {name:salary} for n number of employees through keyboard in a dictionary and print them in name alphabetical order with salary"
      ]
    },
    {
      "cell_type": "code",
      "metadata": {
        "id": "RKe0b1m1dSXj",
        "colab_type": "code",
        "colab": {
          "base_uri": "https://localhost:8080/",
          "height": 170
        },
        "outputId": "218f0a75-c7f3-4642-a5d8-c519be840b31"
      },
      "source": [
        "n=int(input(\"Enter no of records\"))\n",
        "d={}\n",
        "import operator\n",
        "for i in range(1,n+1):\n",
        "  name= input(\"Enter name %d\"%(i))\n",
        "  s=float(input(\"Enter salary %d\"%(i)))\n",
        "  d[name]=s\n",
        "print(\"input: \",d)\n",
        "sorted_a= sorted(d.items(), key=operator.itemgetter(0))\n",
        "print(\"output: \",sorted_a)"
      ],
      "execution_count": null,
      "outputs": [
        {
          "output_type": "stream",
          "text": [
            "Enter no of records3\n",
            "Enter name 1priya\n",
            "Enter salary 140000\n",
            "Enter name 2laxmi\n",
            "Enter salary 235000\n",
            "Enter name 3kumar\n",
            "Enter salary 338000\n",
            "input:  {'priya': 40000.0, 'laxmi': 35000.0, 'kumar': 38000.0}\n",
            "output:  [('kumar', 38000.0), ('laxmi', 35000.0), ('priya', 40000.0)]\n"
          ],
          "name": "stdout"
        }
      ]
    },
    {
      "cell_type": "markdown",
      "metadata": {
        "id": "nndJtV7LdwfU",
        "colab_type": "text"
      },
      "source": [
        "#Add  name and salary {name:salary} for n number of employees through keyboard in a dictionary and print them in salary  ascending order and sum, max, min and average of the salaries"
      ]
    },
    {
      "cell_type": "code",
      "metadata": {
        "id": "PwTZaU_Sd1X9",
        "colab_type": "code",
        "colab": {
          "base_uri": "https://localhost:8080/",
          "height": 238
        },
        "outputId": "f8134cd7-543e-4ca6-ceaf-a12c6df3242d"
      },
      "source": [
        "n=int(input(\"Enter no of records\"))\n",
        "d={}\n",
        "import operator\n",
        "for i in range(1,n+1):\n",
        "  name= input(\"Enter name %d\"%(i))\n",
        "  s=float(input(\"Enter salary %d\"%(i)))\n",
        "  d[name]=s\n",
        "print(\"input: \",d)\n",
        "sorted_a= sorted(d.items(), key=operator.itemgetter(1))\n",
        "print(\"output: \",sorted_a)\n",
        "v = d.values()\n",
        "print(\"sum: \",sum(v))\n",
        "print(\"max: \",max(v))\n",
        "print(\"min: \",min(v))\n",
        "print(\"avg: \",(sum(v)/n))"
      ],
      "execution_count": null,
      "outputs": [
        {
          "output_type": "stream",
          "text": [
            "Enter no of records3\n",
            "Enter name 1priya\n",
            "Enter salary 140000\n",
            "Enter name 2kumar\n",
            "Enter salary 232000\n",
            "Enter name 3laxmi\n",
            "Enter salary 342000\n",
            "input:  {'priya': 40000.0, 'kumar': 32000.0, 'laxmi': 42000.0}\n",
            "output:  [('kumar', 32000.0), ('priya', 40000.0), ('laxmi', 42000.0)]\n",
            "sum:  114000.0\n",
            "max:  42000.0\n",
            "min:  32000.0\n",
            "avg:  38000.0\n"
          ],
          "name": "stdout"
        }
      ]
    },
    {
      "cell_type": "markdown",
      "metadata": {
        "id": "9c-9ijjbfURt",
        "colab_type": "text"
      },
      "source": [
        "#Add name and salary {name:salary} for n number of employees through keyboard in a dictionary and print only the employees whose salary is greater than 2000 but less than 4000"
      ]
    },
    {
      "cell_type": "code",
      "metadata": {
        "id": "m-vsxF3VfhbE",
        "colab_type": "code",
        "colab": {
          "base_uri": "https://localhost:8080/",
          "height": 187
        },
        "outputId": "d8628355-adce-4858-8919-17e07268caa8"
      },
      "source": [
        "n=int(input(\"Enter no of records\"))\n",
        "d={}\n",
        "import operator\n",
        "for i in range(1,n+1):\n",
        "  name= input(\"Enter name %d\"%(i))\n",
        "  s=int(input(\"Enter salary %d\"%(i)))\n",
        "  d[name]=s\n",
        "print(\"input: \",d)\n",
        "for key,value in d.items():\n",
        "    if value>=2000 and value<=4000:\n",
        "         print(d[key],\"=\",key)\n"
      ],
      "execution_count": null,
      "outputs": [
        {
          "output_type": "stream",
          "text": [
            "Enter no of records3\n",
            "Enter name 1amog\n",
            "Enter salary 12020\n",
            "Enter name 2megha\n",
            "Enter salary 23999\n",
            "Enter name 3ramya\n",
            "Enter salary 38000\n",
            "input:  {'amog': 2020, 'megha': 3999, 'ramya': 8000}\n",
            "2020 = amog\n",
            "3999 = megha\n"
          ],
          "name": "stdout"
        }
      ]
    },
    {
      "cell_type": "markdown",
      "metadata": {
        "id": "6Uyvn6Owl3hr",
        "colab_type": "text"
      },
      "source": [
        "#Python program to convert a 3 digit number  into words"
      ]
    },
    {
      "cell_type": "code",
      "metadata": {
        "id": "dN2hxfvil7Wm",
        "colab_type": "code",
        "colab": {
          "base_uri": "https://localhost:8080/",
          "height": 51
        },
        "outputId": "9d80e25a-18da-485c-ef26-09886a0f37ff"
      },
      "source": [
        "def convert_to_words(num): \n",
        "\tl = len(num)\n",
        "\tif (l == 0): \n",
        "\t\tprint(\"empty string\")\n",
        "\t\treturn; \n",
        "\tif (l > 4): \n",
        "\t\tprint(\"Length more than 4 is not supported\"); \n",
        "\t\treturn; \n",
        "\tsingle_digits = [\"zero\", \"one\", \"two\", \"three\", \n",
        "\t\t\t\t\t\"four\", \"five\", \"six\", \"seven\", \n",
        "\t\t\t\t\t\"eight\", \"nine\"]\n",
        "\ttwo_digits = [\"\", \"ten\", \"eleven\", \"twelve\", \n",
        "\t\t\t\t\"thirteen\", \"fourteen\", \"fifteen\", \n",
        "\t\t\t\t\"sixteen\", \"seventeen\", \"eighteen\", \n",
        "\t\t\t\t\"nineteen\"]\n",
        "\ttens_multiple = [\"\", \"\", \"twenty\", \"thirty\", \"forty\", \n",
        "\t\t\t\t\t\"fifty\", \"sixty\", \"seventy\", \"eighty\", \n",
        "\t\t\t\t\t\"ninety\"]; \n",
        "\ttens_power = [\"hundred\", \"thousand\"]\n",
        "\tprint(num, \":\", end = \" \") \n",
        "\tif (l == 1): \n",
        "\t\tprint(single_digits[ord(num[0]) - '0']) \n",
        "\t\treturn\n",
        "\tx = 0; \n",
        "\twhile (x < len(num)): \n",
        "\t\tif (l >= 3): \n",
        "\t\t\tif (ord(num[x]) - 48 != 0): \n",
        "\t\t\t\tprint(single_digits[ord(num[x]) - 48], \n",
        "\t\t\t\t\t\t\t\t\t\tend = \" \")\n",
        "\t\t\t\tprint(tens_power[l - 3], end = \" \") \n",
        "\t\t\tl -= 1 \n",
        "\t\telse: \n",
        "\t\t\tif (ord(num[x]) - 48 == 1): \n",
        "\t\t\t\tsum = (ord(num[x]) - 48 +\n",
        "\t\t\t\t\tord(num[x]) - 48); \n",
        "\t\t\t\tprint(two_digits[sum])\n",
        "\t\t\t\treturn; \n",
        "\t\t\telif (ord(num[x]) - 48 == 2 and\n",
        "\t\t\t\tord(num[x + 1]) - 48 == 0): \n",
        "\t\t\t\tprint(\"twenty\")\n",
        "\t\t\t\treturn; \n",
        "\t\t\telse: \n",
        "\t\t\t\ti = ord(num[x]) - 48\n",
        "\t\t\t\tif(i > 0): \n",
        "\t\t\t\t\tprint(tens_multiple[i], end = \" \")\n",
        "\t\t\t\telse: \n",
        "\t\t\t\t\tprint(\"\", end = \"\")\n",
        "\t\t\t\tx += 1; \n",
        "\t\t\t\tif(ord(num[x]) - 48 != 0): \n",
        "\t\t\t\t\tprint(single_digits[ord(num[x]) - 48])\n",
        "\t\tx += 1; \n",
        "n=(input(\"enter num: \"))\n",
        "convert_to_words(n)\n",
        " \n",
        "\n",
        "\n"
      ],
      "execution_count": null,
      "outputs": [
        {
          "output_type": "stream",
          "text": [
            "enter num: 528\n",
            "528 : five hundred twenty eight\n"
          ],
          "name": "stdout"
        }
      ]
    },
    {
      "cell_type": "markdown",
      "metadata": {
        "id": "WHuPVM12ndTH",
        "colab_type": "text"
      },
      "source": [
        "#Files Exercises"
      ]
    },
    {
      "cell_type": "markdown",
      "metadata": {
        "id": "q7qKlmq-nhwd",
        "colab_type": "text"
      },
      "source": [
        "#Python Program to count the total number of charaters (except blank space) in a text file."
      ]
    },
    {
      "cell_type": "code",
      "metadata": {
        "id": "L8gQpPvfnoSi",
        "colab_type": "code",
        "colab": {
          "base_uri": "https://localhost:8080/",
          "height": 51
        },
        "outputId": "1203f86b-844e-479d-8109-60ff6d13f411"
      },
      "source": [
        "input_file = input(\"Enter File name : \")\n",
        "file_txt = open(input_file)\t\t\n",
        "text = file_txt.read()\t\t\t\n",
        "charc = 0\t\n",
        "for i in text:\t\t\t\t\n",
        "\tif(i != \" \" and i != \"\\n\" ):\n",
        "\t\t charc += 1\n",
        " \n",
        "print (\"total num of characters: \",charc);"
      ],
      "execution_count": null,
      "outputs": [
        {
          "output_type": "stream",
          "text": [
            "Enter File name : /content/foo.txt\n",
            "total num of characters:  20\n"
          ],
          "name": "stdout"
        }
      ]
    },
    {
      "cell_type": "markdown",
      "metadata": {
        "id": "MQNcg_mho4oU",
        "colab_type": "text"
      },
      "source": [
        "#Python Program to print all the numbers present in a text file with its total number of occurrence."
      ]
    },
    {
      "cell_type": "code",
      "metadata": {
        "id": "l_o57rSNo-6L",
        "colab_type": "code",
        "colab": {
          "base_uri": "https://localhost:8080/",
          "height": 119
        },
        "outputId": "78b9bb3c-4389-4bb3-ae72-9aab752e76ac"
      },
      "source": [
        "input_file = input(\"Enter File name : \")\n",
        "file_txt = open(input_file)\t\t\n",
        "text = file_txt.read()\t\n",
        "w = []\t\n",
        "d = dict() \n",
        "for line in text: \n",
        "    line = line.strip() \t\n",
        "    if(line.isdigit()):\n",
        "           w.append(line)\n",
        "for j in w:\n",
        "      if j in d:\n",
        "        d[j] = d[j] + 1\n",
        "      else: \n",
        "            d[j] = 1 \n",
        "for key in list(d.keys()): \n",
        "    print(key, \":\", d[key])\n",
        "\n",
        "\n"
      ],
      "execution_count": null,
      "outputs": [
        {
          "output_type": "stream",
          "text": [
            "Enter File name : /content/abc.txt\n",
            "1 : 2\n",
            "2 : 3\n",
            "3 : 3\n",
            "4 : 1\n",
            "5 : 1\n"
          ],
          "name": "stdout"
        }
      ]
    },
    {
      "cell_type": "markdown",
      "metadata": {
        "id": "77GfDxwUueeP",
        "colab_type": "text"
      },
      "source": [
        "#Python Program to append the contents of one file to another file by getting the both file names through keyboard . "
      ]
    },
    {
      "cell_type": "code",
      "metadata": {
        "id": "KLjlbxjIugE2",
        "colab_type": "code",
        "colab": {
          "base_uri": "https://localhost:8080/",
          "height": 51
        },
        "outputId": "bb60dad4-5141-495e-c605-e8a067b8303e"
      },
      "source": [
        "name1 = input(\"Enter file to be read from: \")\n",
        "name2 = input(\"Enter file to be appended to: \")\n",
        "fin = open(name1, \"r\")\n",
        "data2 = fin.read()\n",
        "fin.close()\n",
        "fout = open(name2, \"a\")\n",
        "fout.write(data2)\n",
        "fout.close()"
      ],
      "execution_count": null,
      "outputs": [
        {
          "output_type": "stream",
          "text": [
            "Enter file to be read from: /content/abc.txt\n",
            "Enter file to be appended to: /content/foo.txt\n"
          ],
          "name": "stdout"
        }
      ]
    },
    {
      "cell_type": "markdown",
      "metadata": {
        "id": "Oe8Nth-gvxCl",
        "colab_type": "text"
      },
      "source": [
        "#Python Program to count the number of blank spaces in a text file. "
      ]
    },
    {
      "cell_type": "code",
      "metadata": {
        "id": "_IMf5n99v5RB",
        "colab_type": "code",
        "colab": {
          "base_uri": "https://localhost:8080/",
          "height": 51
        },
        "outputId": "07e02eed-2f18-4455-b822-19fd2c3b91b2"
      },
      "source": [
        "input_file = input(\"Enter File name : \")\n",
        "file_txt = open(input_file)\t\t\n",
        "text = file_txt.read()\t\t\t\n",
        "charc = 0\t\n",
        "for i in text:\t\t\t\t\n",
        "\tif(i == \" \"):\n",
        "\t\t charc += 1\n",
        " \n",
        "print (\"total num of spaces: \",charc);"
      ],
      "execution_count": null,
      "outputs": [
        {
          "output_type": "stream",
          "text": [
            "Enter File name : /content/abc.txt\n",
            "total num of spaces:  7\n"
          ],
          "name": "stdout"
        }
      ]
    },
    {
      "cell_type": "markdown",
      "metadata": {
        "id": "gY5v05_SwIjw",
        "colab_type": "text"
      },
      "source": [
        "#Python Program to read a file and capitalize the first letter of every word in the file and copy the every word capitalized content  into another file and read it ."
      ]
    },
    {
      "cell_type": "code",
      "metadata": {
        "id": "vcB3QlHowMoV",
        "colab_type": "code",
        "colab": {
          "base_uri": "https://localhost:8080/",
          "height": 71
        },
        "outputId": "7eccb717-ec0a-474a-ec7c-8024d183f550"
      },
      "source": [
        "fname = input(\"Enter file name: \")\n",
        "with open(fname, 'r') as f:\n",
        "  with open(\"out.txt\", \"w\") as f1:\n",
        "    for line in f:\n",
        "        l=line.title()\n",
        "        f1.write(l)\n",
        "file2=open(\"out.txt\",'r')\n",
        "line=file2.readline()\n",
        "while(line!=\"\"):\n",
        "    print(line)\n",
        "    line=file2.readline()\n",
        "file2.close()\n",
        "        \n",
        "\n"
      ],
      "execution_count": null,
      "outputs": [
        {
          "output_type": "stream",
          "text": [
            "Enter file name: /content/xyz.txt\n",
            "Python Program To Read A File And Capitalize The First Letter Of Every Word In The File And Copy The Every Word Capitalized Content  Into Another File And Read It .\n"
          ],
          "name": "stdout"
        }
      ]
    }
  ]
}