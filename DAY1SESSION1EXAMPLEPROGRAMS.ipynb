{
  "nbformat": 4,
  "nbformat_minor": 0,
  "metadata": {
    "colab": {
      "name": "DAY1SESSION1EXAMPLEPROGRAMS.ipynb",
      "provenance": [],
      "authorship_tag": "ABX9TyMUwb6OEQLbiA/HUsnyEtgz",
      "include_colab_link": true
    },
    "kernelspec": {
      "name": "python3",
      "display_name": "Python 3"
    }
  },
  "cells": [
    {
      "cell_type": "markdown",
      "metadata": {
        "id": "view-in-github",
        "colab_type": "text"
      },
      "source": [
        "<a href=\"https://colab.research.google.com/github/nachi0106/Python-Workshop/blob/master/DAY1SESSION1EXAMPLEPROGRAMS.ipynb\" target=\"_parent\"><img src=\"https://colab.research.google.com/assets/colab-badge.svg\" alt=\"Open In Colab\"/></a>"
      ]
    },
    {
      "cell_type": "markdown",
      "metadata": {
        "id": "liFOXkT7QqK9",
        "colab_type": "text"
      },
      "source": [
        "#Python Program to Add Two Numbers getting through key board"
      ]
    },
    {
      "cell_type": "code",
      "metadata": {
        "id": "Xo3W0J1eQ5B0",
        "colab_type": "code",
        "colab": {}
      },
      "source": [
        "# sum of two nos\n",
        "num1 = int(input(&quot;Enter first no&quot;))\n",
        "num2 = int(input(&quot;Enter second no&quot;))\n",
        "# Adding the two numbers\n",
        "sum = num1 + num2\n",
        "# Display the sum\n",
        "print(&#39;The sum of {0} and {1} is {2}&#39;.format(num1, num2, sum))"
      ],
      "execution_count": 0,
      "outputs": []
    },
    {
      "cell_type": "markdown",
      "metadata": {
        "id": "NAAsH1u-R080",
        "colab_type": "text"
      },
      "source": [
        "#Python program to check if the input year is a leap year or not"
      ]
    },
    {
      "cell_type": "code",
      "metadata": {
        "id": "8DWordg4R9gD",
        "colab_type": "code",
        "colab": {}
      },
      "source": [
        "# To get year (integer input) from the user\n",
        "year = int(input(&quot;Enter a year: &quot;))\n",
        "if ((year % 4) == 0 and (year % 100) != 0) or ((year % 400) == 0):\n",
        "print(&quot;{0} is a leap year&quot;.format(year))\n",
        "else:\n",
        "print(&quot;{0} is not a leap year&quot;.format(year))"
      ],
      "execution_count": 0,
      "outputs": []
    },
    {
      "cell_type": "markdown",
      "metadata": {
        "id": "djVXSBhDSP-Q",
        "colab_type": "text"
      },
      "source": [
        "#Python Program to Generate a Random Number"
      ]
    },
    {
      "cell_type": "code",
      "metadata": {
        "id": "Sh9oGNmnSaJu",
        "colab_type": "code",
        "colab": {}
      },
      "source": [
        "# Program to generate a random number between 0 and 9\n",
        "# import the random module\n",
        "import random\n",
        "print(random.randint(0,9))"
      ],
      "execution_count": 0,
      "outputs": []
    },
    {
      "cell_type": "markdown",
      "metadata": {
        "id": "4TnoA2IDSodi",
        "colab_type": "text"
      },
      "source": [
        "#Python Program to Convert Kilometers to Miles"
      ]
    },
    {
      "cell_type": "code",
      "metadata": {
        "id": "lnoLM44fSxLC",
        "colab_type": "code",
        "colab": {}
      },
      "source": [
        "# To take kilometers from the user, uncomment the code below\n",
        "kilometers = int(input(&quot;Enter value in kilometers&quot;))\n",
        "# conversion factor\n",
        "conv_fac = 0.621371\n",
        "# calculate miles\n",
        "miles = kilometers * conv_fac\n",
        "print(&#39;%0.3f kilometers is equal to %0.3f miles&#39; %(kilometers,miles))"
      ],
      "execution_count": 0,
      "outputs": []
    },
    {
      "cell_type": "markdown",
      "metadata": {
        "id": "A0E-yPNiS2Yb",
        "colab_type": "text"
      },
      "source": [
        "#Python Program to Solve Quadratic Equation"
      ]
    },
    {
      "cell_type": "markdown",
      "metadata": {
        "id": "Tpmk6zIRS9mx",
        "colab_type": "text"
      },
      "source": [
        "# Solve the quadratic equation ax**2 + bx + c = 0\n",
        "# importing complex math module\n",
        "import cmath\n",
        "# To take coefficient input from the users\n",
        "a = float(input(&#39;Enter a: &#39;))\n",
        "b = float(input(&#39;Enter b: &#39;))\n",
        "c = float(input(&#39;Enter c: &#39;))\n",
        "# calculate the discriminant\n",
        "d = (b**2) - (4*a*c)\n",
        "# find two solutions\n",
        "sol1 = (-b-cmath.sqrt(d))/(2*a)\n",
        "sol2 = (-b+cmath.sqrt(d))/(2*a)\n",
        "print(&#39;The solution are {0} and {1}&#39;.format(sol1,sol2))"
      ]
    },
    {
      "cell_type": "markdown",
      "metadata": {
        "id": "43BcdvpNTCDk",
        "colab_type": "text"
      },
      "source": [
        "#Python Program to find prime or not using function"
      ]
    },
    {
      "cell_type": "code",
      "metadata": {
        "id": "iZMcBiiNTIXR",
        "colab_type": "code",
        "colab": {}
      },
      "source": [
        "def test_prime(n):\n",
        "if (n==1):\n",
        "return False\n",
        "elif (n==2):\n",
        "return True;\n",
        "else:\n",
        "for x in range(2,n):\n",
        "if(n % x==0):\n",
        "return False\n",
        "return True\n",
        "no=int(input(&quot;Enter the number&quot;))\n",
        "if (test_prime(no)) is True :\n",
        "print(&quot; {0} is a prime no&quot;.format(no))\n",
        "else:\n",
        "print(&quot; {0} is not a prime no&quot;.format(no))"
      ],
      "execution_count": 0,
      "outputs": []
    },
    {
      "cell_type": "markdown",
      "metadata": {
        "id": "LU4GuRwZTLO3",
        "colab_type": "text"
      },
      "source": [
        "#CODING\n",
        "&quot;&quot;&quot;Calculator program&quot;&quot;&quot;"
      ]
    },
    {
      "cell_type": "code",
      "metadata": {
        "id": "b_KETj_mTOeK",
        "colab_type": "code",
        "colab": {}
      },
      "source": [
        "loop = 1 # 1 means loop; anything else means don&#39;t loop.\n",
        "choice = 0 # This variable holds the user&#39;s choice in the menu\n",
        "def add(a,b):\n",
        "return a+b\n",
        "def sub(a,b):\n",
        "return a-b\n",
        "def mul(a,b):\n",
        "\n",
        "return a*b\n",
        "def div(a,b):\n",
        "return a/b\n",
        "while loop == 1:\n",
        "# Print what options you have\n",
        "print (&quot;Welcome to calculator.py&quot;)\n",
        "print (&quot;your options are:&quot;)\n",
        "print (&quot; &quot;)\n",
        "print(&quot;1) Addition&quot;)\n",
        "print(&quot;2) Subtraction&quot;)\n",
        "print(&quot;3) Multiplication&quot;)\n",
        "print(&quot;4) Division&quot;)\n",
        "print(&quot;5) Quit calculator.py&quot;)\n",
        "print(&quot; &quot;)\n",
        "try:\n",
        "choice = int(input(&quot;Choose your option: &quot;))\n",
        "except:\n",
        "print(&#39;please enter a valid number for option&#39;)\n",
        "print(&quot; &quot;)\n",
        "print(&quot; &quot;)\n",
        "if choice == 1:\n",
        "x = int(input(“Enter 1st no: &quot;))\n",
        "y = int(input(&quot;Enter 2nd no: &quot;))\n",
        "print(&quot;The answer is &quot;,add(x,y))\n",
        "elif choice == 2:\n",
        "x = int(input(&quot;Enter 1st no: &quot;))\n",
        "y = int(input(&quot;Enter 2nd no: &quot;))\n",
        "print(&quot;answer is &quot;,sub(x,y))\n",
        "elif choice == 3:\n",
        "x = int(input(&quot;Enter 1st no: &quot;))\n",
        "y = int(input(&quot;Enter 2nd no: &quot;))\n",
        "print(&quot;answer is &quot;,mul(x,y))\n",
        "elif choice == 4:\n",
        "x = int(input(&quot;Enter 1st no: &quot;))\n",
        "y = int(input(&quot;Enter 2nd no: &quot;))\n",
        "print(&quot;answer is &quot;,div(x,y))\n",
        "elif choice == 5:\n",
        "loop = 0\n",
        "else:\n",
        "print(&quot;please choice a valid option from 1 to 5&quot;)\n",
        "choice=0\n",
        "print (&quot;Thank-you for using calculator.py!&quot;)"
      ],
      "execution_count": 0,
      "outputs": []
    }
  ]
}